{
 "cells": [
  {
   "cell_type": "code",
   "execution_count": 2,
   "id": "c2559ced",
   "metadata": {},
   "outputs": [],
   "source": [
    "import matplotlib.pyplot as pyplot\n",
    "import numpy as np\n",
    "import pandas as pd\n",
    "from apify_client import ApifyClient"
   ]
  },
  {
   "cell_type": "code",
   "execution_count": null,
   "id": "c81520fd",
   "metadata": {},
   "outputs": [],
   "source": [
    "# Initialize the ApifyClient with your Apify API token\n",
    "# Replace '<YOUR_API_TOKEN>' with your token.\n",
    "client = ApifyClient(\"<YOUR_API_TOKEN>\")\n",
    "\n",
    "# Prepare the Actor input\n",
    "run_input = {\n",
    "    \"directUrls\": [\"https://www.instagram.com/nikolasferreiradm/\"],\n",
    "    \"resultsType\": \"posts\",\n",
    "    \"resultsLimit\": 200,\n",
    "    \"searchType\": \"hashtag\",\n",
    "    \"searchLimit\": 1,\n",
    "}\n",
    "\n",
    "# Run the Actor and wait for it to finish\n",
    "run = client.actor(\"apify/instagram-scraper\").call(run_input=run_input)\n",
    "\n",
    "# Fetch and print Actor results from the run's dataset (if there are any)\n",
    "print(\"Check your data here: https://console.apify.com/storage/datasets/\" + run[\"defaultDatasetId\"])\n",
    "for item in client.dataset(run[\"defaultDatasetId\"]).iterate_items():\n",
    "    print(item)\n",
    "\n",
    "# 📚 Want to learn more 📖? Go to → https://docs.apify.com/api/client/python/docs/quick-start"
   ]
  }
 ],
 "metadata": {
  "kernelspec": {
   "display_name": "Python 3",
   "language": "python",
   "name": "python3"
  },
  "language_info": {
   "codemirror_mode": {
    "name": "ipython",
    "version": 3
   },
   "file_extension": ".py",
   "mimetype": "text/x-python",
   "name": "python",
   "nbconvert_exporter": "python",
   "pygments_lexer": "ipython3",
   "version": "3.12.3"
  }
 },
 "nbformat": 4,
 "nbformat_minor": 5
}
